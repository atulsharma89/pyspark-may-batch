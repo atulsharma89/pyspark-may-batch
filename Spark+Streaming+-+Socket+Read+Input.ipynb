{
 "cells": [
  {
   "cell_type": "code",
   "execution_count": null,
   "metadata": {
    "collapsed": true
   },
   "outputs": [],
   "source": [
    "# import socket\n",
    "# from random import randint\n",
    "\n",
    "# host = 'localhost'\n",
    "# port = 9999\n",
    "# address = (host, port)\n",
    "\n",
    "# server_socket = socket.socket(socket.AF_INET, socket.SOCK_STREAM)\n",
    "# server_socket.bind(address)\n",
    "# server_socket.listen(5)\n",
    "\n",
    "\n",
    "# print \"Listening for client . . .\"\n",
    "# conn, address = server_socket.accept()\n",
    "# print \"Connected to client at \", address\n",
    "# #pick a large output buffer size because i dont necessarily know how big the incoming packet is\n",
    "# while True:\n",
    "#     output = str(randint(0, 10)) + \"\\n\"  ### THAT IS THE FIX.\n",
    "#     conn.send(output)"
   ]
  },
  {
   "cell_type": "code",
   "execution_count": null,
   "metadata": {},
   "outputs": [],
   "source": [
    "from pyspark import SparkContext\n",
    "from pyspark.streaming import StreamingContext\n",
    "\n",
    "sc = SparkContext(\"local[2]\", \"IntegerCount\") # 2 threads, app name\n",
    "ssc = StreamingContext(sc, 15) # sc, time interval for batch update.\n",
    "\n",
    "nums = ssc.socketTextStream(\"localhost\", 9997) # stream data from TCP; source, port\n",
    "\n",
    "# create key,value pairs\n",
    "tests = nums.map(lambda num: (int(num), 1))\n",
    "\n",
    "# Count each integer in each batch\n",
    "intCounts = tests.reduceByKey(lambda x, y: x + y)\n",
    "\n",
    "# Print\n",
    "intCounts.pprint()\n",
    "\n",
    "ssc.start()             # Start the computation\n",
    "ssc.awaitTermination()  # Wait for the computation to terminate"
   ]
  },
  {
   "cell_type": "code",
   "execution_count": null,
   "metadata": {
    "collapsed": true
   },
   "outputs": [],
   "source": [
    "ssc.close()"
   ]
  }
 ],
 "metadata": {
  "kernelspec": {
   "display_name": "PySpark",
   "language": "python",
   "name": "pyspark"
  },
  "language_info": {
   "codemirror_mode": {
    "name": "ipython",
    "version": 2
   },
   "file_extension": ".py",
   "mimetype": "text/x-python",
   "name": "python",
   "nbconvert_exporter": "python",
   "pygments_lexer": "ipython2",
   "version": "2.7.14"
  }
 },
 "nbformat": 4,
 "nbformat_minor": 2
}
