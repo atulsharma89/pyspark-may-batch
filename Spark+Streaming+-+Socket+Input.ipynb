{
 "cells": [
  {
   "cell_type": "code",
   "execution_count": null,
   "metadata": {},
   "outputs": [],
   "source": [
    "import socket\n",
    "from random import randint\n",
    "\n",
    "host = 'localhost'\n",
    "port = 9997\n",
    "address = (host, port)\n",
    "\n",
    "server_socket = socket.socket(socket.AF_INET, socket.SOCK_STREAM)\n",
    "server_socket.bind(address)\n",
    "server_socket.listen(10)\n",
    "\n",
    "print \"Listening for client . . .\"\n",
    "conn, address = server_socket.accept()\n",
    "print \"Connected to client at \", address\n",
    "#pick a large output buffer size because i dont necessarily know how big the incoming packet is\n",
    "while True:\n",
    "    output = str(randint(0, 10)) + \"\\n\"\n",
    "    # output = \"5\" + \"\\n\"\n",
    "    # print(output)\n",
    "    conn.send(output)"
   ]
  },
  {
   "cell_type": "code",
   "execution_count": null,
   "metadata": {},
   "outputs": [],
   "source": [
    "import socket\n",
    "from random import randint\n",
    "\n",
    "host = 'localhost'\n",
    "port = 9997\n",
    "address = (host, port)\n",
    "\n",
    "server_socket = socket.socket(socket.AF_INET, socket.SOCK_STREAM)\n",
    "server_socket.bind(address)\n",
    "server_socket.listen(10)\n",
    "\n",
    "print \"Listening for client . . .\"\n",
    "conn, address = server_socket.accept()\n",
    "print \"Connected to client at \", address\n",
    "#pick a large output buffer size because i dont necessarily know how big the incoming packet is\n",
    "i=1\n",
    "while i<5:\n",
    "    # output = str(randint(0, 10)) + \"\\n\"  ### THAT IS THE FIX.\n",
    "    output = \"5\" + \"\\n\"\n",
    "    # print(output)\n",
    "    conn.send(output)\n",
    "    i=i+1"
   ]
  },
  {
   "cell_type": "code",
   "execution_count": null,
   "metadata": {
    "collapsed": true
   },
   "outputs": [],
   "source": []
  }
 ],
 "metadata": {
  "kernelspec": {
   "display_name": "PySpark",
   "language": "python",
   "name": "pyspark"
  }
 },
 "nbformat": 4,
 "nbformat_minor": 2
}
