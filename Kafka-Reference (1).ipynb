{
 "cells": [
  {
   "cell_type": "markdown",
   "metadata": {},
   "source": [
    "# Kafka Commands"
   ]
  },
  {
   "cell_type": "markdown",
   "metadata": {},
   "source": [
    "## Cluster Config"
   ]
  },
  {
   "cell_type": "markdown",
   "metadata": {},
   "source": [
    "#### Zookeeper Detail"
   ]
  },
  {
   "cell_type": "raw",
   "metadata": {},
   "source": [
    "zookeeper = ip-20-0-21-161.ec2.internal:2181"
   ]
  },
  {
   "cell_type": "markdown",
   "metadata": {},
   "source": [
    "#### Brokers/Bootstrap Servers"
   ]
  },
  {
   "cell_type": "raw",
   "metadata": {},
   "source": [
    "brokers = ip-20-0-31-210.ec2.internal:9092, ip-20-0-31-221.ec2.internal:9092, ip-20-0-31-4.ec2.internal:9092"
   ]
  },
  {
   "cell_type": "markdown",
   "metadata": {},
   "source": [
    "## Topics"
   ]
  },
  {
   "cell_type": "markdown",
   "metadata": {},
   "source": [
    "#### Create Topic"
   ]
  },
  {
   "cell_type": "raw",
   "metadata": {
    "collapsed": true
   },
   "source": [
    "kafka-topics --create --zookeeper ip-20-0-21-161.ec2.internal:2181 --replication-factor 1 --partitions 1 --topic edureka_121039"
   ]
  },
  {
   "cell_type": "markdown",
   "metadata": {},
   "source": [
    "#### Describe Topic"
   ]
  },
  {
   "cell_type": "raw",
   "metadata": {},
   "source": [
    "kafka-topics --describe --zookeeper ip-20-0-21-161.ec2.internal:2181 --topic edureka_121039"
   ]
  },
  {
   "cell_type": "markdown",
   "metadata": {},
   "source": [
    "#### List Topic"
   ]
  },
  {
   "cell_type": "raw",
   "metadata": {},
   "source": [
    "kafka-topics --list --zookeeper ip-20-0-21-161.ec2.internal:2181\n",
    "kafka-topics --list --zookeeper ip-20-0-21-161.ec2.internal:2181 | grep edureka_121039"
   ]
  },
  {
   "cell_type": "markdown",
   "metadata": {},
   "source": [
    "#### Delete Topic"
   ]
  },
  {
   "cell_type": "raw",
   "metadata": {
    "collapsed": true
   },
   "source": [
    "-- Marked for Deletion\n",
    "\n",
    "kafka-topics --zookeeper ip-20-0-21-161.ec2.internal:2181 --delete --topic edureka_121039\n",
    "\n",
    "-- Actual Delete\n",
    "\n",
    "zookeeper-client -server ip-20-0-21-161.ec2.internal:2181\n",
    "rmr /brokers/topics/edureka_121039\n",
    "rmr /admin/delete_topics/edureka_121039\n",
    "quit"
   ]
  },
  {
   "cell_type": "markdown",
   "metadata": {},
   "source": [
    "#### Alter Topic"
   ]
  },
  {
   "cell_type": "markdown",
   "metadata": {
    "collapsed": true
   },
   "source": [
    "Change number of partitions"
   ]
  },
  {
   "cell_type": "raw",
   "metadata": {
    "collapsed": true
   },
   "source": [
    "kafka-topics --alter --zookeeper ip-20-0-21-161.ec2.internal:2181 --partitions 3 --topic edureka_121039"
   ]
  },
  {
   "cell_type": "markdown",
   "metadata": {},
   "source": [
    "    Note: replication-factor cannot be used/changed with alter command"
   ]
  },
  {
   "cell_type": "markdown",
   "metadata": {},
   "source": [
    "Set retention period for a topic"
   ]
  },
  {
   "cell_type": "raw",
   "metadata": {},
   "source": [
    "kafka-topics --zookeeper ip-20-0-21-161.ec2.internal:2181 --alter --topic edureka_121039 --config retention.ms=1000"
   ]
  },
  {
   "cell_type": "markdown",
   "metadata": {},
   "source": [
    "## Producers"
   ]
  },
  {
   "cell_type": "markdown",
   "metadata": {},
   "source": [
    "#### Setup Console Producer"
   ]
  },
  {
   "cell_type": "raw",
   "metadata": {
    "collapsed": true
   },
   "source": [
    "kafka-console-producer --topic edureka_121039 --broker-list ip-20-0-31-210.ec2.internal:9092, ip-20-0-31-221.ec2.internal:9092, ip-20-0-31-221.ec2.internal:9092"
   ]
  },
  {
   "cell_type": "markdown",
   "metadata": {},
   "source": [
    "## Consumers"
   ]
  },
  {
   "cell_type": "markdown",
   "metadata": {},
   "source": [
    "#### Setup Console Consumer"
   ]
  },
  {
   "cell_type": "raw",
   "metadata": {
    "collapsed": true
   },
   "source": [
    "kafka-console-consumer --topic edureka_121039 --from-beginning --zookeeper ip-20-0-21-161.ec2.internal:2181"
   ]
  },
  {
   "cell_type": "markdown",
   "metadata": {},
   "source": [
    "## Consumer Groups"
   ]
  },
  {
   "cell_type": "raw",
   "metadata": {
    "collapsed": true
   },
   "source": [
    "kafka-console-consumer --bootstrap-server ip-20-0-31-210.ec2.internal:9092 --topic edureka_121039 --consumer-property group.id=cg_121039"
   ]
  },
  {
   "cell_type": "raw",
   "metadata": {
    "collapsed": true
   },
   "source": [
    "kafka-consumer-groups --bootstrap-server ip-20-0-31-210.ec2.internal:9092 --list"
   ]
  },
  {
   "cell_type": "raw",
   "metadata": {
    "collapsed": true
   },
   "source": []
  }
 ],
 "metadata": {
  "kernelspec": {
   "display_name": "Python 3",
   "language": "python",
   "name": "python3"
  },
  "language_info": {
   "codemirror_mode": {
    "name": "ipython",
    "version": 3
   },
   "file_extension": ".py",
   "mimetype": "text/x-python",
   "name": "python",
   "nbconvert_exporter": "python",
   "pygments_lexer": "ipython3",
   "version": "3.6.3"
  }
 },
 "nbformat": 4,
 "nbformat_minor": 2
}
